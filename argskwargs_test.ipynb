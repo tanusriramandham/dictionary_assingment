{
 "cells": [
  {
   "cell_type": "code",
   "execution_count": 206,
   "id": "61d0b35a-234a-41d9-936c-153f1d36483b",
   "metadata": {},
   "outputs": [],
   "source": [
    "import emoji\n",
    "def generate_bill(*args):\n",
    "    if len(args)>0:\n",
    "        Subtotal=0\n",
    "        amount=0\n",
    "        discount=0.1\n",
    "        print(\"Detailed Bill:\\nItems:\")\n",
    "        for i in args:\n",
    "            print(f\"{i[0]} : ${i[1]} * {i[2]} = ${i[1]*i[2]}\")\n",
    "            if(i[1]>0 and i[2]==0):\n",
    "                print(f\"--------------------------------------------------------\\nHello shopper you forget to buy the product {i[0]}\",end='')\n",
    "                print(f\"\\N{crying face}\")\n",
    "            amount=i[1]*i[2]\n",
    "            Subtotal+=amount\n",
    "        print(\"--------------------------------------------------------\")\n",
    "        print(f\"Subtotal:{Subtotal}\")\n",
    "        print(\"--------------------------------------------------------\")\n",
    "        print(f\"Discount (10%): -{Subtotal*discount}\")\n",
    "        print(\"Promo Code ('SAVE10'): -$10\")\n",
    "        if Subtotal>1000:\n",
    "            print(\"Hurray shopper you earned Free Delivery\",end='')\n",
    "            print(f\"\\N{winking face}\")\n",
    "        else:\n",
    "            print(f\"OOPS shop for {1000-Subtotal} more to get FREE Delivery\")\n",
    "            \n",
    "        print(\"########################################################\")\n",
    "        print(f\"Total: ${Subtotal-(Subtotal*discount)-10}\")\n",
    "    else:\n",
    "        print(\"your cart is empty go and  shop and grab $10 offer\",end='')\n",
    "        print(\"\\N{grinning face}\")"
   ]
  },
  {
   "cell_type": "code",
   "execution_count": 208,
   "id": "bbe34974-b13b-43da-99dd-9bedf62531b7",
   "metadata": {},
   "outputs": [
    {
     "name": "stdout",
     "output_type": "stream",
     "text": [
      "Requirement already satisfied: emoji in c:\\users\\tanujasriramanadham\\anaconda3\\lib\\site-packages (2.14.0)\n",
      "Note: you may need to restart the kernel to use updated packages.\n"
     ]
    }
   ],
   "source": [
    "pip install emoji"
   ]
  },
  {
   "cell_type": "code",
   "execution_count": 202,
   "id": "af31adfe-b8c8-4daf-b68a-578eec77a853",
   "metadata": {},
   "outputs": [
    {
     "name": "stdout",
     "output_type": "stream",
     "text": [
      "Detailed Bill:\n",
      "Items:\n",
      "Laptop : $1000 * 1 = $1000\n",
      "Mouse : $20 * 2 = $40\n",
      "Keyboard : $50 * 1 = $50\n",
      "--------------------------------------------------------\n",
      "Subtotal:1090\n",
      "--------------------------------------------------------\n",
      "Discount (10%): -109.0\n",
      "Promo Code ('SAVE10'): -$10\n",
      "Hurray shopper you earned Free Delivery😉\n",
      "########################################################\n",
      "Total: $971.0\n"
     ]
    }
   ],
   "source": [
    "generate_bill((\"Laptop\", 1000, 1), (\"Mouse\", 20, 2),(\"Keyboard\", 50, 1))"
   ]
  },
  {
   "cell_type": "code",
   "execution_count": 209,
   "id": "268c3e54-359d-4e05-8c1a-eed627390086",
   "metadata": {},
   "outputs": [
    {
     "name": "stdout",
     "output_type": "stream",
     "text": [
      "Detailed Bill:\n",
      "Items:\n",
      "Laptop : $1000 * 1 = $1000\n",
      "Mouse : $20 * 2 = $40\n",
      "Keyboard : $50 * 1 = $50\n",
      "pen : $20 * 0 = $0\n",
      "--------------------------------------------------------\n",
      "Hello shopper you forget to buy the product pen😢\n",
      "--------------------------------------------------------\n",
      "Subtotal:1090\n",
      "--------------------------------------------------------\n",
      "Discount (10%): -109.0\n",
      "Promo Code ('SAVE10'): -$10\n",
      "Hurray shopper you earned Free Delivery😉\n",
      "########################################################\n",
      "Total: $971.0\n"
     ]
    }
   ],
   "source": [
    "generate_bill((\"Laptop\", 1000, 1), (\"Mouse\", 20, 2),(\"Keyboard\", 50, 1),(\"pen\",20,0))"
   ]
  },
  {
   "cell_type": "code",
   "execution_count": 212,
   "id": "2ae6c667-02b8-4219-a1fa-dce19f3ae609",
   "metadata": {},
   "outputs": [
    {
     "name": "stdout",
     "output_type": "stream",
     "text": [
      "your cart is empty go and  shop and grab $10 offer😀\n"
     ]
    }
   ],
   "source": [
    "generate_bill()"
   ]
  },
  {
   "cell_type": "code",
   "execution_count": null,
   "id": "f5baaafc-95df-4c3a-923b-e7aa56eb7d85",
   "metadata": {},
   "outputs": [],
   "source": []
  }
 ],
 "metadata": {
  "kernelspec": {
   "display_name": "Python 3 (ipykernel)",
   "language": "python",
   "name": "python3"
  },
  "language_info": {
   "codemirror_mode": {
    "name": "ipython",
    "version": 3
   },
   "file_extension": ".py",
   "mimetype": "text/x-python",
   "name": "python",
   "nbconvert_exporter": "python",
   "pygments_lexer": "ipython3",
   "version": "3.12.4"
  }
 },
 "nbformat": 4,
 "nbformat_minor": 5
}
