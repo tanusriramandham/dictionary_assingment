{
 "cells": [
  {
   "cell_type": "markdown",
   "id": "1838f365-ca67-4710-aeb3-894bb6fa2cb7",
   "metadata": {},
   "source": [
    "# Create a JSON file containing at least 10 records with potential duplicates and inconsistencies.\r\n"
   ]
  },
  {
   "cell_type": "code",
   "execution_count": 3,
   "id": "8d26cdd3-e5f4-4276-9bf3-3a1ea46a0e1a",
   "metadata": {},
   "outputs": [],
   "source": [
    "import json\n",
    "data = [\n",
    "    {\"name\": \"john doe\", \"email\": \"JOHN@example.com\", \"phone_number\": \"123-456-7890\", \"address\": \"123 Main St, New York, NY 10001\"},\n",
    "    {\"name\": \"jane smith\", \"email\": \"Jane.Smith@Email.com\", \"phone_number\": \"(123) 456 7890\", \"address\": \"456 Elm St, Los Angeles, CA 90001\"},\n",
    "    {\"name\": \"john doe\", \"email\": \"john@example.com\", \"phone_number\": \"1234567890\", \"address\": \"123 Main St, New York, NY 10001\"},\n",
    "    {\"name\": \"emma brown\", \"email\": \"emma_brown@hotmail.com\", \"phone_number\": \"+1 321-654-9870\", \"address\": \"789 Pine Ave, Chicago, IL 60601\"},\n",
    "    {\"name\": \"liam jones\", \"email\": \"liam.j@domain.org\", \"phone_number\": \"(321) 654 9870\", \"address\": \"321 Oak St, Houston, TX 77001\"},\n",
    "    {\"name\": \"olivia johnson\", \"email\": \"olivia.johnson@gmail.com\", \"phone_number\": \"3216549870\", \"address\": \"654 Maple Dr, Miami, FL 33101\"},\n",
    "    {\"name\": \"noah williams\", \"email\": \"noah.williams@yahoo.com\", \"phone_number\": \"987-654-3210\", \"address\": \"987 Cedar St, Seattle, WA 98101\"},\n",
    "    {\"name\": \"ava taylor\", \"email\": \"ava.t@company.com\", \"phone_number\": \"(987) 654 3210\", \"address\": \"654 Birch Rd, Boston, MA 02101\"},\n",
    "    {\"name\": \"sophia harris\", \"email\": \"sophia.harris@email.org\", \"phone_number\": \"+1 (789) 456-1230\", \"address\": \"123 Aspen Ln, Denver, CO 80201\"},\n",
    "    {\"name\": \"william moore\", \"email\": \"william.moore@service.net\", \"phone_number\": \"789-456-1230\", \"address\": \"456 Willow Way, San Francisco, CA 94101\"},\n",
    "    {\"name\": \"isabella white\", \"email\": \"isabella.white@gmail.com\", \"phone_number\": \"4567891230\", \"address\": \"789 Cypress Ct, Portland, OR 97201\"},\n",
    "    {\"name\": \"james thomas\", \"email\": \"james.thomas@email.com\", \"phone_number\": \"456-789-1230\", \"address\": \"123 Redwood Ave, Austin, TX 73301\"},\n",
    "    {\"name\": \"mia martin\", \"email\": \"mia.martin@domain.com\", \"phone_number\": \"+1 456-789-1230\", \"address\": \"456 Spruce St, Atlanta, GA 30301\"},\n",
    "    {\"name\": \"Emily Davis\", \"email\": \"emily.davis@sample.com\", \"phone_number\": \"987-654-3210\", \"address\": \"789 Pine St, Chicago, IL 60601\"},\n",
    "    {\"name\": \"john doe\", \"email\": \"JOHN@example.com\", \"phone_number\": \"+1-123-456-7890\", \"address\": \"123 Main St, New York, NY 10001\"},  # Duplicate with different formats\n",
    "    {\"name\": \"Michael Brown\", \"email\": \"michael_brown@domain.com\", \"phone_number\": \"9876543210\", \"address\": \"101 Oak St, Houston, TX 77001\"},\n",
    "    {\"name\": \"Jane Smith\", \"email\": \"jane.smith@email.com\", \"phone_number\": \"123.456.7890\", \"address\": \"456 Elm St, Los Angeles, CA 90001\"},  # Duplicate with different phone format\n",
    "    {\"name\": \"Anna Taylor\", \"email\": \"annataylor@example.org\", \"phone_number\": \"456-789-1234\", \"address\": \"202 Maple St, Phoenix, AZ 85001\"},\n",
    "    {\"name\": \"Chris Green\", \"email\": \"chris.green@domain.com\", \"phone_number\": \"+1 (456) 789-1234\", \"address\": \"303 Birch St, Miami, FL 33101\"},\n",
    "    {\"name\": \"Michael Brown\", \"email\": \"michael_brown@DOMAIN.com\", \"phone_number\": \"9876543210\", \"address\": \"101 Oak St, Houston, TX 77001\"},\n",
    "     {\"name\": \"john doe\", \"email\": \"JOHN@example.com\", \"phone_number\": \"123-456-7890\", \"address\": \"123 Main St, New York, NY 10001\"}# Duplicate with case-insensitive email\n",
    "]\n"
   ]
  },
  {
   "cell_type": "code",
   "execution_count": 80,
   "id": "b5e1613f-648e-4b82-b6d2-955bf46e09a1",
   "metadata": {},
   "outputs": [],
   "source": [
    "with open(\"contact_data.json\",\"w\") as json_file:\n",
    "    json.dump(data,json_file,indent=4)"
   ]
  },
  {
   "cell_type": "code",
   "execution_count": 5,
   "id": "dbf918c7-96ec-4681-957b-581cae33e1a2",
   "metadata": {},
   "outputs": [
    {
     "data": {
      "text/plain": [
       "[{'name': 'john doe',\n",
       "  'email': 'JOHN@example.com',\n",
       "  'phone_number': '123-456-7890',\n",
       "  'address': '123 Main St, New York, NY 10001'},\n",
       " {'name': 'jane smith',\n",
       "  'email': 'Jane.Smith@Email.com',\n",
       "  'phone_number': '(123) 456 7890',\n",
       "  'address': '456 Elm St, Los Angeles, CA 90001'},\n",
       " {'name': 'john doe',\n",
       "  'email': 'john@example.com',\n",
       "  'phone_number': '1234567890',\n",
       "  'address': '123 Main St, New York, NY 10001'},\n",
       " {'name': 'emma brown',\n",
       "  'email': 'emma_brown@hotmail.com',\n",
       "  'phone_number': '+1 321-654-9870',\n",
       "  'address': '789 Pine Ave, Chicago, IL 60601'},\n",
       " {'name': 'liam jones',\n",
       "  'email': 'liam.j@domain.org',\n",
       "  'phone_number': '(321) 654 9870',\n",
       "  'address': '321 Oak St, Houston, TX 77001'},\n",
       " {'name': 'olivia johnson',\n",
       "  'email': 'olivia.johnson@gmail.com',\n",
       "  'phone_number': '3216549870',\n",
       "  'address': '654 Maple Dr, Miami, FL 33101'},\n",
       " {'name': 'noah williams',\n",
       "  'email': 'noah.williams@yahoo.com',\n",
       "  'phone_number': '987-654-3210',\n",
       "  'address': '987 Cedar St, Seattle, WA 98101'},\n",
       " {'name': 'ava taylor',\n",
       "  'email': 'ava.t@company.com',\n",
       "  'phone_number': '(987) 654 3210',\n",
       "  'address': '654 Birch Rd, Boston, MA 02101'},\n",
       " {'name': 'sophia harris',\n",
       "  'email': 'sophia.harris@email.org',\n",
       "  'phone_number': '+1 (789) 456-1230',\n",
       "  'address': '123 Aspen Ln, Denver, CO 80201'},\n",
       " {'name': 'william moore',\n",
       "  'email': 'william.moore@service.net',\n",
       "  'phone_number': '789-456-1230',\n",
       "  'address': '456 Willow Way, San Francisco, CA 94101'},\n",
       " {'name': 'isabella white',\n",
       "  'email': 'isabella.white@gmail.com',\n",
       "  'phone_number': '4567891230',\n",
       "  'address': '789 Cypress Ct, Portland, OR 97201'},\n",
       " {'name': 'james thomas',\n",
       "  'email': 'james.thomas@email.com',\n",
       "  'phone_number': '456-789-1230',\n",
       "  'address': '123 Redwood Ave, Austin, TX 73301'},\n",
       " {'name': 'mia martin',\n",
       "  'email': 'mia.martin@domain.com',\n",
       "  'phone_number': '+1 456-789-1230',\n",
       "  'address': '456 Spruce St, Atlanta, GA 30301'},\n",
       " {'name': 'Emily Davis',\n",
       "  'email': 'emily.davis@sample.com',\n",
       "  'phone_number': '987-654-3210',\n",
       "  'address': '789 Pine St, Chicago, IL 60601'},\n",
       " {'name': 'john doe',\n",
       "  'email': 'JOHN@example.com',\n",
       "  'phone_number': '+1-123-456-7890',\n",
       "  'address': '123 Main St, New York, NY 10001'},\n",
       " {'name': 'Michael Brown',\n",
       "  'email': 'michael_brown@domain.com',\n",
       "  'phone_number': '9876543210',\n",
       "  'address': '101 Oak St, Houston, TX 77001'},\n",
       " {'name': 'Jane Smith',\n",
       "  'email': 'jane.smith@email.com',\n",
       "  'phone_number': '123.456.7890',\n",
       "  'address': '456 Elm St, Los Angeles, CA 90001'},\n",
       " {'name': 'Anna Taylor',\n",
       "  'email': 'annataylor@example.org',\n",
       "  'phone_number': '456-789-1234',\n",
       "  'address': '202 Maple St, Phoenix, AZ 85001'},\n",
       " {'name': 'Chris Green',\n",
       "  'email': 'chris.green@domain.com',\n",
       "  'phone_number': '+1 (456) 789-1234',\n",
       "  'address': '303 Birch St, Miami, FL 33101'},\n",
       " {'name': 'Michael Brown',\n",
       "  'email': 'michael_brown@DOMAIN.com',\n",
       "  'phone_number': '9876543210',\n",
       "  'address': '101 Oak St, Houston, TX 77001'}]"
      ]
     },
     "execution_count": 5,
     "metadata": {},
     "output_type": "execute_result"
    }
   ],
   "source": [
    "uniq_data = list({frozenset(item.items()) : item for item in data}.values())\n",
    "uniq_data"
   ]
  },
  {
   "cell_type": "code",
   "execution_count": 7,
   "id": "4f43db4a-67f3-4b25-a0b2-e703da12d238",
   "metadata": {},
   "outputs": [
    {
     "name": "stdout",
     "output_type": "stream",
     "text": [
      "{'name': 'john doe', 'email': 'JOHN@example.com', 'phone_number': '(123) 456-7890', 'address': '123 Main St, New York, NY 10001'}\n",
      "{'name': 'jane smith', 'email': 'Jane.Smith@Email.com', 'phone_number': '(123) 456-7890', 'address': '456 Elm St, Los Angeles, CA 90001'}\n",
      "{'name': 'john doe', 'email': 'john@example.com', 'phone_number': '(123) 456-7890', 'address': '123 Main St, New York, NY 10001'}\n",
      "{'name': 'emma brown', 'email': 'emma_brown@hotmail.com', 'phone_number': '(321) 654-9870', 'address': '789 Pine Ave, Chicago, IL 60601'}\n",
      "{'name': 'liam jones', 'email': 'liam.j@domain.org', 'phone_number': '(321) 654-9870', 'address': '321 Oak St, Houston, TX 77001'}\n",
      "{'name': 'olivia johnson', 'email': 'olivia.johnson@gmail.com', 'phone_number': '(321) 654-9870', 'address': '654 Maple Dr, Miami, FL 33101'}\n",
      "{'name': 'noah williams', 'email': 'noah.williams@yahoo.com', 'phone_number': '(987) 654-3210', 'address': '987 Cedar St, Seattle, WA 98101'}\n",
      "{'name': 'ava taylor', 'email': 'ava.t@company.com', 'phone_number': '(987) 654-3210', 'address': '654 Birch Rd, Boston, MA 02101'}\n",
      "{'name': 'sophia harris', 'email': 'sophia.harris@email.org', 'phone_number': '(789) 456-1230', 'address': '123 Aspen Ln, Denver, CO 80201'}\n",
      "{'name': 'william moore', 'email': 'william.moore@service.net', 'phone_number': '(789) 456-1230', 'address': '456 Willow Way, San Francisco, CA 94101'}\n",
      "{'name': 'isabella white', 'email': 'isabella.white@gmail.com', 'phone_number': '(456) 789-1230', 'address': '789 Cypress Ct, Portland, OR 97201'}\n",
      "{'name': 'james thomas', 'email': 'james.thomas@email.com', 'phone_number': '(456) 789-1230', 'address': '123 Redwood Ave, Austin, TX 73301'}\n",
      "{'name': 'mia martin', 'email': 'mia.martin@domain.com', 'phone_number': '(456) 789-1230', 'address': '456 Spruce St, Atlanta, GA 30301'}\n",
      "{'name': 'Emily Davis', 'email': 'emily.davis@sample.com', 'phone_number': '(987) 654-3210', 'address': '789 Pine St, Chicago, IL 60601'}\n",
      "{'name': 'john doe', 'email': 'JOHN@example.com', 'phone_number': '+1-(123) 456-7890', 'address': '123 Main St, New York, NY 10001'}\n",
      "{'name': 'Michael Brown', 'email': 'michael_brown@domain.com', 'phone_number': '(987) 654-3210', 'address': '101 Oak St, Houston, TX 77001'}\n",
      "{'name': 'Jane Smith', 'email': 'jane.smith@email.com', 'phone_number': '(123) 456-7890', 'address': '456 Elm St, Los Angeles, CA 90001'}\n",
      "{'name': 'Anna Taylor', 'email': 'annataylor@example.org', 'phone_number': '(456) 789-1234', 'address': '202 Maple St, Phoenix, AZ 85001'}\n",
      "{'name': 'Chris Green', 'email': 'chris.green@domain.com', 'phone_number': '(456) 789-1234', 'address': '303 Birch St, Miami, FL 33101'}\n",
      "{'name': 'Michael Brown', 'email': 'michael_brown@DOMAIN.com', 'phone_number': '(987) 654-3210', 'address': '101 Oak St, Houston, TX 77001'}\n"
     ]
    }
   ],
   "source": [
    "import re\n",
    "def format_phone(phone_number):\n",
    "    pattern=r'\\+?1?\\s*\\(?(\\d{3})\\)?[-.\\s]*(\\d{3})[-.\\s]*(\\d{4})'\n",
    "    return re.sub(pattern, r'(\\1) \\2-\\3', phone_number)\n",
    "for item in uniq_data:\n",
    "    item['phone_number']=format_phone(item['phone_number'])\n",
    "    print(item)"
   ]
  },
  {
   "cell_type": "code",
   "execution_count": 9,
   "id": "371173d8-bd3f-4712-b013-397f4450f4f2",
   "metadata": {},
   "outputs": [
    {
     "name": "stdout",
     "output_type": "stream",
     "text": [
      "{'name': 'john doe', 'email': 'john@example.com', 'phone_number': '(123) 456-7890', 'address': '123 Main St, New York, NY 10001'}\n",
      "{'name': 'jane smith', 'email': 'jane.smith@email.com', 'phone_number': '(123) 456-7890', 'address': '456 Elm St, Los Angeles, CA 90001'}\n",
      "{'name': 'john doe', 'email': 'john@example.com', 'phone_number': '(123) 456-7890', 'address': '123 Main St, New York, NY 10001'}\n",
      "{'name': 'emma brown', 'email': 'emma_brown@hotmail.com', 'phone_number': '(321) 654-9870', 'address': '789 Pine Ave, Chicago, IL 60601'}\n",
      "{'name': 'liam jones', 'email': 'liam.j@domain.org', 'phone_number': '(321) 654-9870', 'address': '321 Oak St, Houston, TX 77001'}\n",
      "{'name': 'olivia johnson', 'email': 'olivia.johnson@gmail.com', 'phone_number': '(321) 654-9870', 'address': '654 Maple Dr, Miami, FL 33101'}\n",
      "{'name': 'noah williams', 'email': 'noah.williams@yahoo.com', 'phone_number': '(987) 654-3210', 'address': '987 Cedar St, Seattle, WA 98101'}\n",
      "{'name': 'ava taylor', 'email': 'ava.t@company.com', 'phone_number': '(987) 654-3210', 'address': '654 Birch Rd, Boston, MA 02101'}\n",
      "{'name': 'sophia harris', 'email': 'sophia.harris@email.org', 'phone_number': '(789) 456-1230', 'address': '123 Aspen Ln, Denver, CO 80201'}\n",
      "{'name': 'william moore', 'email': 'william.moore@service.net', 'phone_number': '(789) 456-1230', 'address': '456 Willow Way, San Francisco, CA 94101'}\n",
      "{'name': 'isabella white', 'email': 'isabella.white@gmail.com', 'phone_number': '(456) 789-1230', 'address': '789 Cypress Ct, Portland, OR 97201'}\n",
      "{'name': 'james thomas', 'email': 'james.thomas@email.com', 'phone_number': '(456) 789-1230', 'address': '123 Redwood Ave, Austin, TX 73301'}\n",
      "{'name': 'mia martin', 'email': 'mia.martin@domain.com', 'phone_number': '(456) 789-1230', 'address': '456 Spruce St, Atlanta, GA 30301'}\n",
      "{'name': 'Emily Davis', 'email': 'emily.davis@sample.com', 'phone_number': '(987) 654-3210', 'address': '789 Pine St, Chicago, IL 60601'}\n",
      "{'name': 'john doe', 'email': 'john@example.com', 'phone_number': '+1-(123) 456-7890', 'address': '123 Main St, New York, NY 10001'}\n",
      "{'name': 'Michael Brown', 'email': 'michael_brown@domain.com', 'phone_number': '(987) 654-3210', 'address': '101 Oak St, Houston, TX 77001'}\n",
      "{'name': 'Jane Smith', 'email': 'jane.smith@email.com', 'phone_number': '(123) 456-7890', 'address': '456 Elm St, Los Angeles, CA 90001'}\n",
      "{'name': 'Anna Taylor', 'email': 'annataylor@example.org', 'phone_number': '(456) 789-1234', 'address': '202 Maple St, Phoenix, AZ 85001'}\n",
      "{'name': 'Chris Green', 'email': 'chris.green@domain.com', 'phone_number': '(456) 789-1234', 'address': '303 Birch St, Miami, FL 33101'}\n",
      "{'name': 'Michael Brown', 'email': 'michael_brown@domain.com', 'phone_number': '(987) 654-3210', 'address': '101 Oak St, Houston, TX 77001'}\n"
     ]
    }
   ],
   "source": [
    "for item in uniq_data:\n",
    "    item['email']=item['email'].lower()\n",
    "    print(item)"
   ]
  },
  {
   "cell_type": "code",
   "execution_count": 11,
   "id": "fdb6e253-e0ee-4c0c-a75e-6beb7c6f99ac",
   "metadata": {},
   "outputs": [
    {
     "name": "stdout",
     "output_type": "stream",
     "text": [
      "{'name': 'John doe', 'email': 'john@example.com', 'phone_number': '(123) 456-7890', 'address': '123 Main St, New York, NY 10001'}\n",
      "{'name': 'Jane smith', 'email': 'jane.smith@email.com', 'phone_number': '(123) 456-7890', 'address': '456 Elm St, Los Angeles, CA 90001'}\n",
      "{'name': 'John doe', 'email': 'john@example.com', 'phone_number': '(123) 456-7890', 'address': '123 Main St, New York, NY 10001'}\n",
      "{'name': 'Emma brown', 'email': 'emma_brown@hotmail.com', 'phone_number': '(321) 654-9870', 'address': '789 Pine Ave, Chicago, IL 60601'}\n",
      "{'name': 'Liam jones', 'email': 'liam.j@domain.org', 'phone_number': '(321) 654-9870', 'address': '321 Oak St, Houston, TX 77001'}\n",
      "{'name': 'Olivia johnson', 'email': 'olivia.johnson@gmail.com', 'phone_number': '(321) 654-9870', 'address': '654 Maple Dr, Miami, FL 33101'}\n",
      "{'name': 'Noah williams', 'email': 'noah.williams@yahoo.com', 'phone_number': '(987) 654-3210', 'address': '987 Cedar St, Seattle, WA 98101'}\n",
      "{'name': 'Ava taylor', 'email': 'ava.t@company.com', 'phone_number': '(987) 654-3210', 'address': '654 Birch Rd, Boston, MA 02101'}\n",
      "{'name': 'Sophia harris', 'email': 'sophia.harris@email.org', 'phone_number': '(789) 456-1230', 'address': '123 Aspen Ln, Denver, CO 80201'}\n",
      "{'name': 'William moore', 'email': 'william.moore@service.net', 'phone_number': '(789) 456-1230', 'address': '456 Willow Way, San Francisco, CA 94101'}\n",
      "{'name': 'Isabella white', 'email': 'isabella.white@gmail.com', 'phone_number': '(456) 789-1230', 'address': '789 Cypress Ct, Portland, OR 97201'}\n",
      "{'name': 'James thomas', 'email': 'james.thomas@email.com', 'phone_number': '(456) 789-1230', 'address': '123 Redwood Ave, Austin, TX 73301'}\n",
      "{'name': 'Mia martin', 'email': 'mia.martin@domain.com', 'phone_number': '(456) 789-1230', 'address': '456 Spruce St, Atlanta, GA 30301'}\n",
      "{'name': 'Emily davis', 'email': 'emily.davis@sample.com', 'phone_number': '(987) 654-3210', 'address': '789 Pine St, Chicago, IL 60601'}\n",
      "{'name': 'John doe', 'email': 'john@example.com', 'phone_number': '+1-(123) 456-7890', 'address': '123 Main St, New York, NY 10001'}\n",
      "{'name': 'Michael brown', 'email': 'michael_brown@domain.com', 'phone_number': '(987) 654-3210', 'address': '101 Oak St, Houston, TX 77001'}\n",
      "{'name': 'Jane smith', 'email': 'jane.smith@email.com', 'phone_number': '(123) 456-7890', 'address': '456 Elm St, Los Angeles, CA 90001'}\n",
      "{'name': 'Anna taylor', 'email': 'annataylor@example.org', 'phone_number': '(456) 789-1234', 'address': '202 Maple St, Phoenix, AZ 85001'}\n",
      "{'name': 'Chris green', 'email': 'chris.green@domain.com', 'phone_number': '(456) 789-1234', 'address': '303 Birch St, Miami, FL 33101'}\n",
      "{'name': 'Michael brown', 'email': 'michael_brown@domain.com', 'phone_number': '(987) 654-3210', 'address': '101 Oak St, Houston, TX 77001'}\n"
     ]
    }
   ],
   "source": [
    "for item in uniq_data:\n",
    "    item['name']=item['name'].capitalize()\n",
    "    print(item)"
   ]
  },
  {
   "cell_type": "code",
   "execution_count": 13,
   "id": "0030dc80-d819-4dc6-9b49-5ed878ec6adb",
   "metadata": {},
   "outputs": [
    {
     "name": "stdout",
     "output_type": "stream",
     "text": [
      "{'name': 'John doe', 'email': 'john@example.com', 'phone_number': '(123) 456-7890', 'address': '123 Main St, New York, NY 10001', 'City': '123 Main St', 'State': ' New York', 'abbrevation': 'NY', 'zipcode': '10001'}\n",
      "{'name': 'Jane smith', 'email': 'jane.smith@email.com', 'phone_number': '(123) 456-7890', 'address': '456 Elm St, Los Angeles, CA 90001', 'City': '456 Elm St', 'State': ' Los Angeles', 'abbrevation': 'CA', 'zipcode': '90001'}\n",
      "{'name': 'John doe', 'email': 'john@example.com', 'phone_number': '(123) 456-7890', 'address': '123 Main St, New York, NY 10001', 'City': '123 Main St', 'State': ' New York', 'abbrevation': 'NY', 'zipcode': '10001'}\n",
      "{'name': 'Emma brown', 'email': 'emma_brown@hotmail.com', 'phone_number': '(321) 654-9870', 'address': '789 Pine Ave, Chicago, IL 60601', 'City': '789 Pine Ave', 'State': ' Chicago', 'abbrevation': 'IL', 'zipcode': '60601'}\n",
      "{'name': 'Liam jones', 'email': 'liam.j@domain.org', 'phone_number': '(321) 654-9870', 'address': '321 Oak St, Houston, TX 77001', 'City': '321 Oak St', 'State': ' Houston', 'abbrevation': 'TX', 'zipcode': '77001'}\n",
      "{'name': 'Olivia johnson', 'email': 'olivia.johnson@gmail.com', 'phone_number': '(321) 654-9870', 'address': '654 Maple Dr, Miami, FL 33101', 'City': '654 Maple Dr', 'State': ' Miami', 'abbrevation': 'FL', 'zipcode': '33101'}\n",
      "{'name': 'Noah williams', 'email': 'noah.williams@yahoo.com', 'phone_number': '(987) 654-3210', 'address': '987 Cedar St, Seattle, WA 98101', 'City': '987 Cedar St', 'State': ' Seattle', 'abbrevation': 'WA', 'zipcode': '98101'}\n",
      "{'name': 'Ava taylor', 'email': 'ava.t@company.com', 'phone_number': '(987) 654-3210', 'address': '654 Birch Rd, Boston, MA 02101', 'City': '654 Birch Rd', 'State': ' Boston', 'abbrevation': 'MA', 'zipcode': '02101'}\n",
      "{'name': 'Sophia harris', 'email': 'sophia.harris@email.org', 'phone_number': '(789) 456-1230', 'address': '123 Aspen Ln, Denver, CO 80201', 'City': '123 Aspen Ln', 'State': ' Denver', 'abbrevation': 'CO', 'zipcode': '80201'}\n",
      "{'name': 'William moore', 'email': 'william.moore@service.net', 'phone_number': '(789) 456-1230', 'address': '456 Willow Way, San Francisco, CA 94101', 'City': '456 Willow Way', 'State': ' San Francisco', 'abbrevation': 'CA', 'zipcode': '94101'}\n",
      "{'name': 'Isabella white', 'email': 'isabella.white@gmail.com', 'phone_number': '(456) 789-1230', 'address': '789 Cypress Ct, Portland, OR 97201', 'City': '789 Cypress Ct', 'State': ' Portland', 'abbrevation': 'OR', 'zipcode': '97201'}\n",
      "{'name': 'James thomas', 'email': 'james.thomas@email.com', 'phone_number': '(456) 789-1230', 'address': '123 Redwood Ave, Austin, TX 73301', 'City': '123 Redwood Ave', 'State': ' Austin', 'abbrevation': 'TX', 'zipcode': '73301'}\n",
      "{'name': 'Mia martin', 'email': 'mia.martin@domain.com', 'phone_number': '(456) 789-1230', 'address': '456 Spruce St, Atlanta, GA 30301', 'City': '456 Spruce St', 'State': ' Atlanta', 'abbrevation': 'GA', 'zipcode': '30301'}\n",
      "{'name': 'Emily davis', 'email': 'emily.davis@sample.com', 'phone_number': '(987) 654-3210', 'address': '789 Pine St, Chicago, IL 60601', 'City': '789 Pine St', 'State': ' Chicago', 'abbrevation': 'IL', 'zipcode': '60601'}\n",
      "{'name': 'John doe', 'email': 'john@example.com', 'phone_number': '+1-(123) 456-7890', 'address': '123 Main St, New York, NY 10001', 'City': '123 Main St', 'State': ' New York', 'abbrevation': 'NY', 'zipcode': '10001'}\n",
      "{'name': 'Michael brown', 'email': 'michael_brown@domain.com', 'phone_number': '(987) 654-3210', 'address': '101 Oak St, Houston, TX 77001', 'City': '101 Oak St', 'State': ' Houston', 'abbrevation': 'TX', 'zipcode': '77001'}\n",
      "{'name': 'Jane smith', 'email': 'jane.smith@email.com', 'phone_number': '(123) 456-7890', 'address': '456 Elm St, Los Angeles, CA 90001', 'City': '456 Elm St', 'State': ' Los Angeles', 'abbrevation': 'CA', 'zipcode': '90001'}\n",
      "{'name': 'Anna taylor', 'email': 'annataylor@example.org', 'phone_number': '(456) 789-1234', 'address': '202 Maple St, Phoenix, AZ 85001', 'City': '202 Maple St', 'State': ' Phoenix', 'abbrevation': 'AZ', 'zipcode': '85001'}\n",
      "{'name': 'Chris green', 'email': 'chris.green@domain.com', 'phone_number': '(456) 789-1234', 'address': '303 Birch St, Miami, FL 33101', 'City': '303 Birch St', 'State': ' Miami', 'abbrevation': 'FL', 'zipcode': '33101'}\n",
      "{'name': 'Michael brown', 'email': 'michael_brown@domain.com', 'phone_number': '(987) 654-3210', 'address': '101 Oak St, Houston, TX 77001', 'City': '101 Oak St', 'State': ' Houston', 'abbrevation': 'TX', 'zipcode': '77001'}\n"
     ]
    }
   ],
   "source": [
    "def final_method(str):\n",
    "    data=str.split(',')\n",
    "    l2=data[2].split(' ')\n",
    "    data=data[:2]\n",
    "    for i in range(1,3):\n",
    "        data.append(l2[i])\n",
    "    return data\n",
    "d=['City','State','abbrevation','zipcode']\n",
    "for i in uniq_data:\n",
    "    temp_data=final_method(i['address'])\n",
    "    #d2=dict(zip(d,final_method(i['address'])))\n",
    "    #i.update(d2)\n",
    "    d2=dict(zip(d,temp_data))\n",
    "    i.update(d2)\n",
    "    print(i)\n"
   ]
  },
  {
   "cell_type": "code",
   "execution_count": 17,
   "id": "b1fcb690-3c4e-4d05-be85-5d98408660d6",
   "metadata": {},
   "outputs": [],
   "source": [
    "import json\n",
    "with open(\"contact_data.json\",\"w\") as json_file:\n",
    "    json.dump(uniq_data,json_file,indent=4)"
   ]
  },
  {
   "cell_type": "code",
   "execution_count": null,
   "id": "e7af7779-4056-4a3e-9909-2927670cb4e0",
   "metadata": {},
   "outputs": [],
   "source": []
  }
 ],
 "metadata": {
  "kernelspec": {
   "display_name": "Python 3 (ipykernel)",
   "language": "python",
   "name": "python3"
  },
  "language_info": {
   "codemirror_mode": {
    "name": "ipython",
    "version": 3
   },
   "file_extension": ".py",
   "mimetype": "text/x-python",
   "name": "python",
   "nbconvert_exporter": "python",
   "pygments_lexer": "ipython3",
   "version": "3.12.4"
  }
 },
 "nbformat": 4,
 "nbformat_minor": 5
}
